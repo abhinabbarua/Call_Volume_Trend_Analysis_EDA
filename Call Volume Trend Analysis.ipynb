{
 "cells": [
  {
   "cell_type": "markdown",
   "id": "cec0cc77",
   "metadata": {},
   "source": [
    "#### Importing Libraries and Loading Data"
   ]
  },
  {
   "cell_type": "code",
   "execution_count": 33,
   "id": "d99c7464",
   "metadata": {},
   "outputs": [],
   "source": [
    "import numpy as np\n",
    "import pandas as pd\n",
    "import matplotlib.pyplot as plt\n",
    "import seaborn as sns\n",
    "%matplotlib inline\n",
    "\n",
    "import warnings\n",
    "warnings.filterwarnings('ignore')"
   ]
  },
  {
   "cell_type": "code",
   "execution_count": 34,
   "id": "1ffa64b8",
   "metadata": {},
   "outputs": [],
   "source": [
    "pd.options.display.float_format = '{:.2f}'.format"
   ]
  },
  {
   "cell_type": "code",
   "execution_count": 35,
   "id": "41c011b9",
   "metadata": {},
   "outputs": [],
   "source": [
    "df = pd.read_excel(\"Call_Volume_Trend_Analysis_Project_9.xlsx\")"
   ]
  },
  {
   "cell_type": "markdown",
   "id": "2612dfcf",
   "metadata": {},
   "source": [
    "#### Exploratory Data Analysis"
   ]
  },
  {
   "cell_type": "code",
   "execution_count": 36,
   "id": "7a9095d8",
   "metadata": {},
   "outputs": [
    {
     "data": {
      "text/html": [
       "<div>\n",
       "<style scoped>\n",
       "    .dataframe tbody tr th:only-of-type {\n",
       "        vertical-align: middle;\n",
       "    }\n",
       "\n",
       "    .dataframe tbody tr th {\n",
       "        vertical-align: top;\n",
       "    }\n",
       "\n",
       "    .dataframe thead th {\n",
       "        text-align: right;\n",
       "    }\n",
       "</style>\n",
       "<table border=\"1\" class=\"dataframe\">\n",
       "  <thead>\n",
       "    <tr style=\"text-align: right;\">\n",
       "      <th></th>\n",
       "      <th>Agent_Name</th>\n",
       "      <th>Agent_ID</th>\n",
       "      <th>Customer_Phone_No</th>\n",
       "      <th>Queue_Time(Secs)</th>\n",
       "      <th>Date_&amp;_Time</th>\n",
       "      <th>Time</th>\n",
       "      <th>Time_Bucket</th>\n",
       "      <th>Duration(hh:mm:ss)</th>\n",
       "      <th>Call_Seconds (s)</th>\n",
       "      <th>Call_Status</th>\n",
       "      <th>Wrapped _By</th>\n",
       "      <th>Ringing</th>\n",
       "      <th>IVR _Duration</th>\n",
       "    </tr>\n",
       "  </thead>\n",
       "  <tbody>\n",
       "    <tr>\n",
       "      <th>0</th>\n",
       "      <td>Executives 42</td>\n",
       "      <td>1000042.00</td>\n",
       "      <td>98502XXXXX</td>\n",
       "      <td>2</td>\n",
       "      <td>2022-01-01 09:02:38</td>\n",
       "      <td>9</td>\n",
       "      <td>9_10</td>\n",
       "      <td>00:01:36</td>\n",
       "      <td>96</td>\n",
       "      <td>answered</td>\n",
       "      <td>Agent</td>\n",
       "      <td>YES</td>\n",
       "      <td>00:00:16</td>\n",
       "    </tr>\n",
       "    <tr>\n",
       "      <th>1</th>\n",
       "      <td>Executives 4</td>\n",
       "      <td>1000004.00</td>\n",
       "      <td>80595XXXXX</td>\n",
       "      <td>0</td>\n",
       "      <td>2022-01-01 09:02:40</td>\n",
       "      <td>9</td>\n",
       "      <td>9_10</td>\n",
       "      <td>00:02:20</td>\n",
       "      <td>140</td>\n",
       "      <td>answered</td>\n",
       "      <td>Agent</td>\n",
       "      <td>YES</td>\n",
       "      <td>00:00:26</td>\n",
       "    </tr>\n",
       "  </tbody>\n",
       "</table>\n",
       "</div>"
      ],
      "text/plain": [
       "      Agent_Name   Agent_ID Customer_Phone_No  Queue_Time(Secs)  \\\n",
       "0  Executives 42 1000042.00        98502XXXXX                 2   \n",
       "1   Executives 4 1000004.00        80595XXXXX                 0   \n",
       "\n",
       "          Date_&_Time  Time Time_Bucket Duration(hh:mm:ss)  Call_Seconds (s)  \\\n",
       "0 2022-01-01 09:02:38     9        9_10           00:01:36                96   \n",
       "1 2022-01-01 09:02:40     9        9_10           00:02:20               140   \n",
       "\n",
       "  Call_Status Wrapped _By Ringing IVR _Duration  \n",
       "0    answered       Agent     YES      00:00:16  \n",
       "1    answered       Agent     YES      00:00:26  "
      ]
     },
     "execution_count": 36,
     "metadata": {},
     "output_type": "execute_result"
    }
   ],
   "source": [
    "df.head(2)"
   ]
  },
  {
   "cell_type": "code",
   "execution_count": 37,
   "id": "1b66f381",
   "metadata": {},
   "outputs": [
    {
     "data": {
      "text/plain": [
       "(117988, 13)"
      ]
     },
     "execution_count": 37,
     "metadata": {},
     "output_type": "execute_result"
    }
   ],
   "source": [
    "df.shape"
   ]
  },
  {
   "cell_type": "code",
   "execution_count": 38,
   "id": "ca5942e0",
   "metadata": {},
   "outputs": [
    {
     "name": "stdout",
     "output_type": "stream",
     "text": [
      "<class 'pandas.core.frame.DataFrame'>\n",
      "RangeIndex: 117988 entries, 0 to 117987\n",
      "Data columns (total 13 columns):\n",
      " #   Column              Non-Null Count   Dtype         \n",
      "---  ------              --------------   -----         \n",
      " 0   Agent_Name          83790 non-null   object        \n",
      " 1   Agent_ID            83790 non-null   float64       \n",
      " 2   Customer_Phone_No   117988 non-null  object        \n",
      " 3   Queue_Time(Secs)    117988 non-null  int64         \n",
      " 4   Date_&_Time         117988 non-null  datetime64[ns]\n",
      " 5   Time                117988 non-null  int64         \n",
      " 6   Time_Bucket         117988 non-null  object        \n",
      " 7   Duration(hh:mm:ss)  117988 non-null  object        \n",
      " 8   Call_Seconds (s)    117988 non-null  int64         \n",
      " 9   Call_Status         117988 non-null  object        \n",
      " 10  Wrapped _By         70111 non-null   object        \n",
      " 11  Ringing             117988 non-null  object        \n",
      " 12  IVR _Duration       117988 non-null  object        \n",
      "dtypes: datetime64[ns](1), float64(1), int64(3), object(8)\n",
      "memory usage: 11.7+ MB\n"
     ]
    }
   ],
   "source": [
    "df.info()"
   ]
  },
  {
   "cell_type": "code",
   "execution_count": 39,
   "id": "a309646f",
   "metadata": {},
   "outputs": [
    {
     "data": {
      "text/html": [
       "<div>\n",
       "<style scoped>\n",
       "    .dataframe tbody tr th:only-of-type {\n",
       "        vertical-align: middle;\n",
       "    }\n",
       "\n",
       "    .dataframe tbody tr th {\n",
       "        vertical-align: top;\n",
       "    }\n",
       "\n",
       "    .dataframe thead th {\n",
       "        text-align: right;\n",
       "    }\n",
       "</style>\n",
       "<table border=\"1\" class=\"dataframe\">\n",
       "  <thead>\n",
       "    <tr style=\"text-align: right;\">\n",
       "      <th></th>\n",
       "      <th>Agent_ID</th>\n",
       "      <th>Queue_Time(Secs)</th>\n",
       "      <th>Time</th>\n",
       "      <th>Call_Seconds (s)</th>\n",
       "    </tr>\n",
       "  </thead>\n",
       "  <tbody>\n",
       "    <tr>\n",
       "      <th>count</th>\n",
       "      <td>83790.00</td>\n",
       "      <td>117988.00</td>\n",
       "      <td>117988.00</td>\n",
       "      <td>117988.00</td>\n",
       "    </tr>\n",
       "    <tr>\n",
       "      <th>mean</th>\n",
       "      <td>1000033.83</td>\n",
       "      <td>52.17</td>\n",
       "      <td>13.70</td>\n",
       "      <td>139.53</td>\n",
       "    </tr>\n",
       "    <tr>\n",
       "      <th>std</th>\n",
       "      <td>18.21</td>\n",
       "      <td>46.15</td>\n",
       "      <td>3.23</td>\n",
       "      <td>158.51</td>\n",
       "    </tr>\n",
       "    <tr>\n",
       "      <th>min</th>\n",
       "      <td>1000001.00</td>\n",
       "      <td>0.00</td>\n",
       "      <td>9.00</td>\n",
       "      <td>0.00</td>\n",
       "    </tr>\n",
       "    <tr>\n",
       "      <th>25%</th>\n",
       "      <td>1000019.00</td>\n",
       "      <td>8.00</td>\n",
       "      <td>11.00</td>\n",
       "      <td>0.00</td>\n",
       "    </tr>\n",
       "    <tr>\n",
       "      <th>50%</th>\n",
       "      <td>1000034.00</td>\n",
       "      <td>40.00</td>\n",
       "      <td>13.00</td>\n",
       "      <td>115.00</td>\n",
       "    </tr>\n",
       "    <tr>\n",
       "      <th>75%</th>\n",
       "      <td>1000050.00</td>\n",
       "      <td>103.00</td>\n",
       "      <td>16.00</td>\n",
       "      <td>202.25</td>\n",
       "    </tr>\n",
       "    <tr>\n",
       "      <th>max</th>\n",
       "      <td>1000065.00</td>\n",
       "      <td>122.00</td>\n",
       "      <td>21.00</td>\n",
       "      <td>3872.00</td>\n",
       "    </tr>\n",
       "  </tbody>\n",
       "</table>\n",
       "</div>"
      ],
      "text/plain": [
       "        Agent_ID  Queue_Time(Secs)      Time  Call_Seconds (s)\n",
       "count   83790.00         117988.00 117988.00         117988.00\n",
       "mean  1000033.83             52.17     13.70            139.53\n",
       "std        18.21             46.15      3.23            158.51\n",
       "min   1000001.00              0.00      9.00              0.00\n",
       "25%   1000019.00              8.00     11.00              0.00\n",
       "50%   1000034.00             40.00     13.00            115.00\n",
       "75%   1000050.00            103.00     16.00            202.25\n",
       "max   1000065.00            122.00     21.00           3872.00"
      ]
     },
     "execution_count": 39,
     "metadata": {},
     "output_type": "execute_result"
    }
   ],
   "source": [
    "df.describe()"
   ]
  },
  {
   "cell_type": "code",
   "execution_count": 40,
   "id": "96eaa9de",
   "metadata": {},
   "outputs": [
    {
     "data": {
      "text/plain": [
       "answered    82452\n",
       "abandon     34403\n",
       "transfer     1133\n",
       "Name: Call_Status, dtype: int64"
      ]
     },
     "execution_count": 40,
     "metadata": {},
     "output_type": "execute_result"
    }
   ],
   "source": [
    "df.Call_Status.value_counts()"
   ]
  },
  {
   "cell_type": "code",
   "execution_count": 41,
   "id": "4ed6ced6",
   "metadata": {},
   "outputs": [
    {
     "data": {
      "text/plain": [
       "11_12    14626\n",
       "10_11    13313\n",
       "12_13    12652\n",
       "13_14    11561\n",
       "14_15    10561\n",
       "9_10      9588\n",
       "15_16     9159\n",
       "16_17     8788\n",
       "17_18     8534\n",
       "18_19     7238\n",
       "19_20     6463\n",
       "20_21     5505\n",
       "Name: Time_Bucket, dtype: int64"
      ]
     },
     "execution_count": 41,
     "metadata": {},
     "output_type": "execute_result"
    }
   ],
   "source": [
    "df.Time_Bucket.value_counts()"
   ]
  },
  {
   "cell_type": "markdown",
   "id": "81588fbf",
   "metadata": {},
   "source": [
    "#### Analysis & Insights"
   ]
  },
  {
   "cell_type": "markdown",
   "id": "0d21c2ef",
   "metadata": {},
   "source": [
    "#### Calculate the average call time duration for all incoming calls received by agents (in each Time_Bucket)."
   ]
  },
  {
   "cell_type": "code",
   "execution_count": 42,
   "id": "38f1dd26",
   "metadata": {},
   "outputs": [
    {
     "data": {
      "text/html": [
       "<div>\n",
       "<style scoped>\n",
       "    .dataframe tbody tr th:only-of-type {\n",
       "        vertical-align: middle;\n",
       "    }\n",
       "\n",
       "    .dataframe tbody tr th {\n",
       "        vertical-align: top;\n",
       "    }\n",
       "\n",
       "    .dataframe thead th {\n",
       "        text-align: right;\n",
       "    }\n",
       "</style>\n",
       "<table border=\"1\" class=\"dataframe\">\n",
       "  <thead>\n",
       "    <tr style=\"text-align: right;\">\n",
       "      <th></th>\n",
       "      <th>Time_Bucket</th>\n",
       "      <th>Call_Seconds (s)</th>\n",
       "    </tr>\n",
       "  </thead>\n",
       "  <tbody>\n",
       "    <tr>\n",
       "      <th>0</th>\n",
       "      <td>10_11</td>\n",
       "      <td>203.33</td>\n",
       "    </tr>\n",
       "    <tr>\n",
       "      <th>1</th>\n",
       "      <td>11_12</td>\n",
       "      <td>199.26</td>\n",
       "    </tr>\n",
       "    <tr>\n",
       "      <th>2</th>\n",
       "      <td>12_13</td>\n",
       "      <td>192.89</td>\n",
       "    </tr>\n",
       "    <tr>\n",
       "      <th>3</th>\n",
       "      <td>13_14</td>\n",
       "      <td>194.74</td>\n",
       "    </tr>\n",
       "    <tr>\n",
       "      <th>4</th>\n",
       "      <td>14_15</td>\n",
       "      <td>193.68</td>\n",
       "    </tr>\n",
       "    <tr>\n",
       "      <th>5</th>\n",
       "      <td>15_16</td>\n",
       "      <td>198.89</td>\n",
       "    </tr>\n",
       "    <tr>\n",
       "      <th>6</th>\n",
       "      <td>16_17</td>\n",
       "      <td>200.87</td>\n",
       "    </tr>\n",
       "    <tr>\n",
       "      <th>7</th>\n",
       "      <td>17_18</td>\n",
       "      <td>200.25</td>\n",
       "    </tr>\n",
       "    <tr>\n",
       "      <th>8</th>\n",
       "      <td>18_19</td>\n",
       "      <td>202.55</td>\n",
       "    </tr>\n",
       "    <tr>\n",
       "      <th>9</th>\n",
       "      <td>19_20</td>\n",
       "      <td>203.41</td>\n",
       "    </tr>\n",
       "    <tr>\n",
       "      <th>10</th>\n",
       "      <td>20_21</td>\n",
       "      <td>202.85</td>\n",
       "    </tr>\n",
       "    <tr>\n",
       "      <th>11</th>\n",
       "      <td>9_10</td>\n",
       "      <td>199.07</td>\n",
       "    </tr>\n",
       "  </tbody>\n",
       "</table>\n",
       "</div>"
      ],
      "text/plain": [
       "   Time_Bucket  Call_Seconds (s)\n",
       "0        10_11            203.33\n",
       "1        11_12            199.26\n",
       "2        12_13            192.89\n",
       "3        13_14            194.74\n",
       "4        14_15            193.68\n",
       "5        15_16            198.89\n",
       "6        16_17            200.87\n",
       "7        17_18            200.25\n",
       "8        18_19            202.55\n",
       "9        19_20            203.41\n",
       "10       20_21            202.85\n",
       "11        9_10            199.07"
      ]
     },
     "execution_count": 42,
     "metadata": {},
     "output_type": "execute_result"
    }
   ],
   "source": [
    "pivot_df1 = df.query(\"Call_Status == 'answered'\").pivot_table(index='Time_Bucket', values='Call_Seconds (s)', aggfunc='mean').reset_index()\n",
    "pivot_df1"
   ]
  },
  {
   "cell_type": "code",
   "execution_count": 43,
   "id": "0143fe03",
   "metadata": {},
   "outputs": [
    {
     "name": "stdout",
     "output_type": "stream",
     "text": [
      "['9_10' '10_11' '11_12' '12_13' '13_14' '14_15' '15_16' '16_17' '17_18'\n",
      " '18_19' '19_20' '20_21']\n"
     ]
    }
   ],
   "source": [
    "time_bucket_list = df['Time_Bucket'].unique()\n",
    "print(time_bucket_list)"
   ]
  },
  {
   "cell_type": "code",
   "execution_count": 44,
   "id": "17b4bb7a",
   "metadata": {},
   "outputs": [
    {
     "data": {
      "image/png": "[encoded data removed]",
      "text/plain": [
       "<Figure size 1200x600 with 1 Axes>"
      ]
     },
     "metadata": {},
     "output_type": "display_data"
    }
   ],
   "source": [
    "plt.figure(figsize=(12, 6))\n",
    "ax = sns.barplot(data=pivot_df1, x='Time_Bucket', y='Call_Seconds (s)', color='gold', ci=None, order=time_bucket_list)\n",
    "\n",
    "for i, bar in enumerate(ax.containers):\n",
    "    ax.bar_label(bar, label=f'{pivot_df1[\"Call_Seconds (s)\"][i]:.2f}', label_type='edge')\n",
    "\n",
    "sns.despine(top=True, right=True)\n",
    "plt.show()"
   ]
  },
  {
   "cell_type": "code",
   "execution_count": 45,
   "id": "e76da569",
   "metadata": {},
   "outputs": [
    {
     "data": {
      "text/plain": [
       "198.6227744627177"
      ]
     },
     "execution_count": 45,
     "metadata": {},
     "output_type": "execute_result"
    }
   ],
   "source": [
    "df['Call_Seconds (s)'][df['Call_Status'] == 'answered'].mean()"
   ]
  },
  {
   "cell_type": "markdown",
   "id": "dbc76d13",
   "metadata": {},
   "source": [
    "#### Show the total volume/ number of calls coming in via charts/ graphs [Number of calls v/s Time]. You can select time in a bucket form (i.e. 1-2, 2-3, …..)"
   ]
  },
  {
   "cell_type": "code",
   "execution_count": 46,
   "id": "860be73d",
   "metadata": {},
   "outputs": [
    {
     "data": {
      "text/html": [
       "<div>\n",
       "<style scoped>\n",
       "    .dataframe tbody tr th:only-of-type {\n",
       "        vertical-align: middle;\n",
       "    }\n",
       "\n",
       "    .dataframe tbody tr th {\n",
       "        vertical-align: top;\n",
       "    }\n",
       "\n",
       "    .dataframe thead th {\n",
       "        text-align: right;\n",
       "    }\n",
       "</style>\n",
       "<table border=\"1\" class=\"dataframe\">\n",
       "  <thead>\n",
       "    <tr style=\"text-align: right;\">\n",
       "      <th></th>\n",
       "      <th>Time_Bucket</th>\n",
       "      <th>Customer_Phone_No</th>\n",
       "    </tr>\n",
       "  </thead>\n",
       "  <tbody>\n",
       "    <tr>\n",
       "      <th>0</th>\n",
       "      <td>10_11</td>\n",
       "      <td>11.28</td>\n",
       "    </tr>\n",
       "    <tr>\n",
       "      <th>1</th>\n",
       "      <td>11_12</td>\n",
       "      <td>12.40</td>\n",
       "    </tr>\n",
       "    <tr>\n",
       "      <th>2</th>\n",
       "      <td>12_13</td>\n",
       "      <td>10.72</td>\n",
       "    </tr>\n",
       "    <tr>\n",
       "      <th>3</th>\n",
       "      <td>13_14</td>\n",
       "      <td>9.80</td>\n",
       "    </tr>\n",
       "    <tr>\n",
       "      <th>4</th>\n",
       "      <td>14_15</td>\n",
       "      <td>8.95</td>\n",
       "    </tr>\n",
       "    <tr>\n",
       "      <th>5</th>\n",
       "      <td>15_16</td>\n",
       "      <td>7.76</td>\n",
       "    </tr>\n",
       "    <tr>\n",
       "      <th>6</th>\n",
       "      <td>16_17</td>\n",
       "      <td>7.45</td>\n",
       "    </tr>\n",
       "    <tr>\n",
       "      <th>7</th>\n",
       "      <td>17_18</td>\n",
       "      <td>7.23</td>\n",
       "    </tr>\n",
       "    <tr>\n",
       "      <th>8</th>\n",
       "      <td>18_19</td>\n",
       "      <td>6.13</td>\n",
       "    </tr>\n",
       "    <tr>\n",
       "      <th>9</th>\n",
       "      <td>19_20</td>\n",
       "      <td>5.48</td>\n",
       "    </tr>\n",
       "    <tr>\n",
       "      <th>10</th>\n",
       "      <td>20_21</td>\n",
       "      <td>4.67</td>\n",
       "    </tr>\n",
       "    <tr>\n",
       "      <th>11</th>\n",
       "      <td>9_10</td>\n",
       "      <td>8.13</td>\n",
       "    </tr>\n",
       "  </tbody>\n",
       "</table>\n",
       "</div>"
      ],
      "text/plain": [
       "   Time_Bucket  Customer_Phone_No\n",
       "0        10_11              11.28\n",
       "1        11_12              12.40\n",
       "2        12_13              10.72\n",
       "3        13_14               9.80\n",
       "4        14_15               8.95\n",
       "5        15_16               7.76\n",
       "6        16_17               7.45\n",
       "7        17_18               7.23\n",
       "8        18_19               6.13\n",
       "9        19_20               5.48\n",
       "10       20_21               4.67\n",
       "11        9_10               8.13"
      ]
     },
     "execution_count": 46,
     "metadata": {},
     "output_type": "execute_result"
    }
   ],
   "source": [
    "pivot_df2 = df.pivot_table(index='Time_Bucket', values='Customer_Phone_No', aggfunc=lambda x: len(x) / len(df) * 100).reset_index()\n",
    "pivot_df2"
   ]
  },
  {
   "cell_type": "code",
   "execution_count": 47,
   "id": "e9dd65ca",
   "metadata": {},
   "outputs": [
    {
     "data": {
      "image/png": "[encoded data removed]",
      "text/plain": [
       "<Figure size 1200x600 with 1 Axes>"
      ]
     },
     "metadata": {},
     "output_type": "display_data"
    }
   ],
   "source": [
    "plt.figure(figsize=(12, 6))\n",
    "\n",
    "ax = sns.barplot(data=pivot_df2, x='Time_Bucket', y='Customer_Phone_No', color='gold', ci=None, order=time_bucket_list)\n",
    "\n",
    "plt.ylabel(\"Percentage Call Volume\")\n",
    "sns.despine(top=True, right=True)\n",
    "\n",
    "for i, bar in enumerate(ax.containers):\n",
    "    ax.bar_label(bar, label=f'{pivot_df2[\"Customer_Phone_No\"][i]:.2f}', label_type='edge')\n",
    "\n",
    "plt.show()"
   ]
  },
  {
   "cell_type": "markdown",
   "id": "265c77d4",
   "metadata": {},
   "source": [
    "#### As you can see current abandon rate is approximately 30%. Propose a manpower plan required during each time bucket [between 9am to 9pm] to reduce the abandon rate to 10%. (i.e. You have to calculate minimum number of agents required in each time bucket so that at least 90 calls should be answered out of 100.) "
   ]
  },
  {
   "cell_type": "code",
   "execution_count": 48,
   "id": "9d2a2bcf",
   "metadata": {},
   "outputs": [
    {
     "data": {
      "text/plain": [
       "answered   69.88\n",
       "abandon    29.16\n",
       "transfer    0.96\n",
       "Name: Call_Status, dtype: float64"
      ]
     },
     "execution_count": 48,
     "metadata": {},
     "output_type": "execute_result"
    }
   ],
   "source": [
    "df.Call_Status.value_counts()/len(df)*100     ##Abandon Rate approximately 30%"
   ]
  },
  {
   "cell_type": "markdown",
   "id": "448f5314",
   "metadata": {},
   "source": [
    "Assumption: An agent work for 6 days a week; On an average total unplanned leaves per agent is 4 days a month; An agent total working hrs is 9 Hrs out of which 1.5 Hrs goes into lunch and snacks in the office. On average an agent occupied for 60% of his total actual working Hrs (i.e 60% of 7.5 Hrs) on call with customers/ users. Total days in a month is 30 days.\n",
    "* Agent work hours : 9\n",
    "* Agent on-floor work hours : 7.5\n",
    "* Weekly work days : 6\n",
    "* Unplanned leave days per month : 4\n",
    "* Days in a month : 30\n",
    "* Total work days (assumption) : 20\n",
    "* Actual working hours (60% of 7.5) : 4.5"
   ]
  },
  {
   "cell_type": "code",
   "execution_count": 49,
   "id": "2d0c43e8",
   "metadata": {},
   "outputs": [
    {
     "name": "stdout",
     "output_type": "stream",
     "text": [
      "198.62\n"
     ]
    }
   ],
   "source": [
    "# Average time for 70% calls answered (in secs)\n",
    "avg_ans = round(df.loc[df['Call_Status'] == 'answered', 'Call_Seconds (s)'].mean(), 2)\n",
    "print(avg_ans)"
   ]
  },
  {
   "cell_type": "code",
   "execution_count": 50,
   "id": "c6ab996f",
   "metadata": {},
   "outputs": [
    {
     "name": "stdout",
     "output_type": "stream",
     "text": [
      "255.37\n"
     ]
    }
   ],
   "source": [
    "# Average time required for 90% calls answered\n",
    "avg_ans_90 = round(avg_ans/70*90,2)\n",
    "print(avg_ans_90)"
   ]
  },
  {
   "cell_type": "code",
   "execution_count": 51,
   "id": "ae66f480",
   "metadata": {},
   "outputs": [
    {
     "name": "stdout",
     "output_type": "stream",
     "text": [
      "44.0\n"
     ]
    }
   ],
   "source": [
    "# Total agents working per day at 30% abandonment rate\n",
    "tot_agnts_70 = round(avg_ans/4.5,0)\n",
    "print(tot_agnts_70)"
   ]
  },
  {
   "cell_type": "code",
   "execution_count": 52,
   "id": "ebed9dd4",
   "metadata": {},
   "outputs": [
    {
     "name": "stdout",
     "output_type": "stream",
     "text": [
      "57.0\n"
     ]
    }
   ],
   "source": [
    "# Total agents required per day for answering 90% calls(reducing abandonment rate to 10%)\n",
    "tot_agnts_90 = round(avg_ans_90/4.5,0)\n",
    "print(tot_agnts_90)"
   ]
  },
  {
   "cell_type": "code",
   "execution_count": 53,
   "id": "d1efd82d",
   "metadata": {},
   "outputs": [
    {
     "data": {
      "text/html": [
       "<div>\n",
       "<style scoped>\n",
       "    .dataframe tbody tr th:only-of-type {\n",
       "        vertical-align: middle;\n",
       "    }\n",
       "\n",
       "    .dataframe tbody tr th {\n",
       "        vertical-align: top;\n",
       "    }\n",
       "\n",
       "    .dataframe thead th {\n",
       "        text-align: right;\n",
       "    }\n",
       "</style>\n",
       "<table border=\"1\" class=\"dataframe\">\n",
       "  <thead>\n",
       "    <tr style=\"text-align: right;\">\n",
       "      <th></th>\n",
       "      <th>Time_Bucket</th>\n",
       "      <th>Call_Volume_Pct</th>\n",
       "      <th>Agents Reqd</th>\n",
       "    </tr>\n",
       "  </thead>\n",
       "  <tbody>\n",
       "    <tr>\n",
       "      <th>0</th>\n",
       "      <td>10_11</td>\n",
       "      <td>11.28</td>\n",
       "      <td>6.00</td>\n",
       "    </tr>\n",
       "    <tr>\n",
       "      <th>1</th>\n",
       "      <td>11_12</td>\n",
       "      <td>12.40</td>\n",
       "      <td>7.00</td>\n",
       "    </tr>\n",
       "    <tr>\n",
       "      <th>2</th>\n",
       "      <td>12_13</td>\n",
       "      <td>10.72</td>\n",
       "      <td>6.00</td>\n",
       "    </tr>\n",
       "    <tr>\n",
       "      <th>3</th>\n",
       "      <td>13_14</td>\n",
       "      <td>9.80</td>\n",
       "      <td>6.00</td>\n",
       "    </tr>\n",
       "    <tr>\n",
       "      <th>4</th>\n",
       "      <td>14_15</td>\n",
       "      <td>8.95</td>\n",
       "      <td>5.00</td>\n",
       "    </tr>\n",
       "    <tr>\n",
       "      <th>5</th>\n",
       "      <td>15_16</td>\n",
       "      <td>7.76</td>\n",
       "      <td>4.00</td>\n",
       "    </tr>\n",
       "    <tr>\n",
       "      <th>6</th>\n",
       "      <td>16_17</td>\n",
       "      <td>7.45</td>\n",
       "      <td>4.00</td>\n",
       "    </tr>\n",
       "    <tr>\n",
       "      <th>7</th>\n",
       "      <td>17_18</td>\n",
       "      <td>7.23</td>\n",
       "      <td>4.00</td>\n",
       "    </tr>\n",
       "    <tr>\n",
       "      <th>8</th>\n",
       "      <td>18_19</td>\n",
       "      <td>6.13</td>\n",
       "      <td>3.00</td>\n",
       "    </tr>\n",
       "    <tr>\n",
       "      <th>9</th>\n",
       "      <td>19_20</td>\n",
       "      <td>5.48</td>\n",
       "      <td>3.00</td>\n",
       "    </tr>\n",
       "    <tr>\n",
       "      <th>10</th>\n",
       "      <td>20_21</td>\n",
       "      <td>4.67</td>\n",
       "      <td>3.00</td>\n",
       "    </tr>\n",
       "    <tr>\n",
       "      <th>11</th>\n",
       "      <td>9_10</td>\n",
       "      <td>8.13</td>\n",
       "      <td>5.00</td>\n",
       "    </tr>\n",
       "  </tbody>\n",
       "</table>\n",
       "</div>"
      ],
      "text/plain": [
       "   Time_Bucket  Call_Volume_Pct  Agents Reqd\n",
       "0        10_11            11.28         6.00\n",
       "1        11_12            12.40         7.00\n",
       "2        12_13            10.72         6.00\n",
       "3        13_14             9.80         6.00\n",
       "4        14_15             8.95         5.00\n",
       "5        15_16             7.76         4.00\n",
       "6        16_17             7.45         4.00\n",
       "7        17_18             7.23         4.00\n",
       "8        18_19             6.13         3.00\n",
       "9        19_20             5.48         3.00\n",
       "10       20_21             4.67         3.00\n",
       "11        9_10             8.13         5.00"
      ]
     },
     "execution_count": 53,
     "metadata": {},
     "output_type": "execute_result"
    }
   ],
   "source": [
    "# Minimum number of agents required in each time bucket so that at least 90 calls should be answered out of 100\n",
    "pivot_df2['Agents Reqd'] = (pivot_df2['Customer_Phone_No'] * .57).round(0)\n",
    "pivot_df2 = pivot_df2.rename(columns={'Customer_Phone_No': 'Call_Volume_Pct'})\n",
    "pivot_df2"
   ]
  },
  {
   "cell_type": "markdown",
   "id": "9b2b4702",
   "metadata": {},
   "source": [
    "#### Let’s say customers also call this ABC insurance company in night but didn’t get answer as there are no agents to answer, this creates a bad customer experience for this Insurance company. Suppose every 100 calls that customer made during 9 Am to 9 Pm, customer also made 30 calls in night between interval [9 Pm to 9 Am] and distribution of those 30 calls are as follows:\n"
   ]
  },
  {
   "cell_type": "markdown",
   "id": "1218bf65",
   "metadata": {},
   "source": [
    "![abc](ABC_project_asset.png)"
   ]
  },
  {
   "cell_type": "markdown",
   "id": "dcac5186",
   "metadata": {},
   "source": [
    "#### Now propose a manpower plan required during each time bucket in a day. Maximum Abandon rate assumption would be same 10%."
   ]
  },
  {
   "cell_type": "code",
   "execution_count": 54,
   "id": "b748a554",
   "metadata": {},
   "outputs": [
    {
     "data": {
      "text/html": [
       "<div>\n",
       "<style scoped>\n",
       "    .dataframe tbody tr th:only-of-type {\n",
       "        vertical-align: middle;\n",
       "    }\n",
       "\n",
       "    .dataframe tbody tr th {\n",
       "        vertical-align: top;\n",
       "    }\n",
       "\n",
       "    .dataframe thead th {\n",
       "        text-align: right;\n",
       "    }\n",
       "</style>\n",
       "<table border=\"1\" class=\"dataframe\">\n",
       "  <thead>\n",
       "    <tr style=\"text-align: right;\">\n",
       "      <th></th>\n",
       "      <th>Agent_Name</th>\n",
       "      <th>Agent_ID</th>\n",
       "      <th>Customer_Phone_No</th>\n",
       "      <th>Queue_Time(Secs)</th>\n",
       "      <th>Date_&amp;_Time</th>\n",
       "      <th>Time</th>\n",
       "      <th>Time_Bucket</th>\n",
       "      <th>Duration(hh:mm:ss)</th>\n",
       "      <th>Call_Seconds (s)</th>\n",
       "      <th>Call_Status</th>\n",
       "      <th>Wrapped _By</th>\n",
       "      <th>Ringing</th>\n",
       "      <th>IVR _Duration</th>\n",
       "      <th>Day_Month</th>\n",
       "    </tr>\n",
       "  </thead>\n",
       "  <tbody>\n",
       "    <tr>\n",
       "      <th>0</th>\n",
       "      <td>Executives 42</td>\n",
       "      <td>1000042.00</td>\n",
       "      <td>98502XXXXX</td>\n",
       "      <td>2</td>\n",
       "      <td>2022-01-01 09:02:38</td>\n",
       "      <td>9</td>\n",
       "      <td>9_10</td>\n",
       "      <td>00:01:36</td>\n",
       "      <td>96</td>\n",
       "      <td>answered</td>\n",
       "      <td>Agent</td>\n",
       "      <td>YES</td>\n",
       "      <td>00:00:16</td>\n",
       "      <td>01/01</td>\n",
       "    </tr>\n",
       "    <tr>\n",
       "      <th>1</th>\n",
       "      <td>Executives 4</td>\n",
       "      <td>1000004.00</td>\n",
       "      <td>80595XXXXX</td>\n",
       "      <td>0</td>\n",
       "      <td>2022-01-01 09:02:40</td>\n",
       "      <td>9</td>\n",
       "      <td>9_10</td>\n",
       "      <td>00:02:20</td>\n",
       "      <td>140</td>\n",
       "      <td>answered</td>\n",
       "      <td>Agent</td>\n",
       "      <td>YES</td>\n",
       "      <td>00:00:26</td>\n",
       "      <td>01/01</td>\n",
       "    </tr>\n",
       "    <tr>\n",
       "      <th>2</th>\n",
       "      <td>Executives 65</td>\n",
       "      <td>1000065.00</td>\n",
       "      <td>70202XXXXX</td>\n",
       "      <td>0</td>\n",
       "      <td>2022-01-01 09:02:49</td>\n",
       "      <td>9</td>\n",
       "      <td>9_10</td>\n",
       "      <td>00:01:25</td>\n",
       "      <td>85</td>\n",
       "      <td>answered</td>\n",
       "      <td>AutoWrapped</td>\n",
       "      <td>YES</td>\n",
       "      <td>00:00:16</td>\n",
       "      <td>01/01</td>\n",
       "    </tr>\n",
       "    <tr>\n",
       "      <th>3</th>\n",
       "      <td>Executives 55</td>\n",
       "      <td>1000055.00</td>\n",
       "      <td>96104XXXXX</td>\n",
       "      <td>1</td>\n",
       "      <td>2022-01-01 09:02:51</td>\n",
       "      <td>9</td>\n",
       "      <td>9_10</td>\n",
       "      <td>00:01:31</td>\n",
       "      <td>91</td>\n",
       "      <td>answered</td>\n",
       "      <td>Agent</td>\n",
       "      <td>YES</td>\n",
       "      <td>00:00:25</td>\n",
       "      <td>01/01</td>\n",
       "    </tr>\n",
       "    <tr>\n",
       "      <th>4</th>\n",
       "      <td>Executives 21</td>\n",
       "      <td>1000021.00</td>\n",
       "      <td>82001XXXXX</td>\n",
       "      <td>0</td>\n",
       "      <td>2022-01-01 09:02:55</td>\n",
       "      <td>9</td>\n",
       "      <td>9_10</td>\n",
       "      <td>00:02:45</td>\n",
       "      <td>165</td>\n",
       "      <td>answered</td>\n",
       "      <td>Agent</td>\n",
       "      <td>YES</td>\n",
       "      <td>00:00:23</td>\n",
       "      <td>01/01</td>\n",
       "    </tr>\n",
       "  </tbody>\n",
       "</table>\n",
       "</div>"
      ],
      "text/plain": [
       "      Agent_Name   Agent_ID Customer_Phone_No  Queue_Time(Secs)  \\\n",
       "0  Executives 42 1000042.00        98502XXXXX                 2   \n",
       "1   Executives 4 1000004.00        80595XXXXX                 0   \n",
       "2  Executives 65 1000065.00        70202XXXXX                 0   \n",
       "3  Executives 55 1000055.00        96104XXXXX                 1   \n",
       "4  Executives 21 1000021.00        82001XXXXX                 0   \n",
       "\n",
       "          Date_&_Time  Time Time_Bucket Duration(hh:mm:ss)  Call_Seconds (s)  \\\n",
       "0 2022-01-01 09:02:38     9        9_10           00:01:36                96   \n",
       "1 2022-01-01 09:02:40     9        9_10           00:02:20               140   \n",
       "2 2022-01-01 09:02:49     9        9_10           00:01:25                85   \n",
       "3 2022-01-01 09:02:51     9        9_10           00:01:31                91   \n",
       "4 2022-01-01 09:02:55     9        9_10           00:02:45               165   \n",
       "\n",
       "  Call_Status  Wrapped _By Ringing IVR _Duration Day_Month  \n",
       "0    answered        Agent     YES      00:00:16     01/01  \n",
       "1    answered        Agent     YES      00:00:26     01/01  \n",
       "2    answered  AutoWrapped     YES      00:00:16     01/01  \n",
       "3    answered        Agent     YES      00:00:25     01/01  \n",
       "4    answered        Agent     YES      00:00:23     01/01  "
      ]
     },
     "execution_count": 54,
     "metadata": {},
     "output_type": "execute_result"
    }
   ],
   "source": [
    "df['Day_Month'] = df['Date_&_Time'].dt.strftime('%d/%m')\n",
    "df.head()"
   ]
  },
  {
   "cell_type": "code",
   "execution_count": 55,
   "id": "292cf31b",
   "metadata": {},
   "outputs": [
    {
     "data": {
      "text/plain": [
       "array(['01/01', '02/01', '03/01', '04/01', '05/01', '06/01', '07/01',\n",
       "       '08/01', '09/01', '10/01', '11/01', '12/01', '13/01', '14/01',\n",
       "       '15/01', '16/01', '17/01', '18/01', '19/01', '20/01', '21/01',\n",
       "       '22/01', '23/01'], dtype=object)"
      ]
     },
     "execution_count": 55,
     "metadata": {},
     "output_type": "execute_result"
    }
   ],
   "source": [
    "df['Day_Month'].unique()"
   ]
  },
  {
   "cell_type": "code",
   "execution_count": 56,
   "id": "08d213dc",
   "metadata": {},
   "outputs": [
    {
     "data": {
      "text/html": [
       "<div>\n",
       "<style scoped>\n",
       "    .dataframe tbody tr th:only-of-type {\n",
       "        vertical-align: middle;\n",
       "    }\n",
       "\n",
       "    .dataframe tbody tr th {\n",
       "        vertical-align: top;\n",
       "    }\n",
       "\n",
       "    .dataframe thead th {\n",
       "        text-align: right;\n",
       "    }\n",
       "</style>\n",
       "<table border=\"1\" class=\"dataframe\">\n",
       "  <thead>\n",
       "    <tr style=\"text-align: right;\">\n",
       "      <th></th>\n",
       "      <th>Day_Month</th>\n",
       "      <th>Call_Status</th>\n",
       "    </tr>\n",
       "  </thead>\n",
       "  <tbody>\n",
       "    <tr>\n",
       "      <th>0</th>\n",
       "      <td>01/01</td>\n",
       "      <td>4644</td>\n",
       "    </tr>\n",
       "    <tr>\n",
       "      <th>1</th>\n",
       "      <td>02/01</td>\n",
       "      <td>3351</td>\n",
       "    </tr>\n",
       "    <tr>\n",
       "      <th>2</th>\n",
       "      <td>03/01</td>\n",
       "      <td>4789</td>\n",
       "    </tr>\n",
       "    <tr>\n",
       "      <th>3</th>\n",
       "      <td>04/01</td>\n",
       "      <td>5113</td>\n",
       "    </tr>\n",
       "    <tr>\n",
       "      <th>4</th>\n",
       "      <td>05/01</td>\n",
       "      <td>4790</td>\n",
       "    </tr>\n",
       "    <tr>\n",
       "      <th>5</th>\n",
       "      <td>06/01</td>\n",
       "      <td>4951</td>\n",
       "    </tr>\n",
       "    <tr>\n",
       "      <th>6</th>\n",
       "      <td>07/01</td>\n",
       "      <td>4948</td>\n",
       "    </tr>\n",
       "    <tr>\n",
       "      <th>7</th>\n",
       "      <td>08/01</td>\n",
       "      <td>4672</td>\n",
       "    </tr>\n",
       "    <tr>\n",
       "      <th>8</th>\n",
       "      <td>09/01</td>\n",
       "      <td>3652</td>\n",
       "    </tr>\n",
       "    <tr>\n",
       "      <th>9</th>\n",
       "      <td>10/01</td>\n",
       "      <td>4983</td>\n",
       "    </tr>\n",
       "    <tr>\n",
       "      <th>10</th>\n",
       "      <td>11/01</td>\n",
       "      <td>4637</td>\n",
       "    </tr>\n",
       "    <tr>\n",
       "      <th>11</th>\n",
       "      <td>12/01</td>\n",
       "      <td>4643</td>\n",
       "    </tr>\n",
       "    <tr>\n",
       "      <th>12</th>\n",
       "      <td>13/01</td>\n",
       "      <td>4123</td>\n",
       "    </tr>\n",
       "    <tr>\n",
       "      <th>13</th>\n",
       "      <td>14/01</td>\n",
       "      <td>3155</td>\n",
       "    </tr>\n",
       "    <tr>\n",
       "      <th>14</th>\n",
       "      <td>15/01</td>\n",
       "      <td>3058</td>\n",
       "    </tr>\n",
       "    <tr>\n",
       "      <th>15</th>\n",
       "      <td>16/01</td>\n",
       "      <td>5142</td>\n",
       "    </tr>\n",
       "    <tr>\n",
       "      <th>16</th>\n",
       "      <td>17/01</td>\n",
       "      <td>22347</td>\n",
       "    </tr>\n",
       "    <tr>\n",
       "      <th>17</th>\n",
       "      <td>18/01</td>\n",
       "      <td>5774</td>\n",
       "    </tr>\n",
       "    <tr>\n",
       "      <th>18</th>\n",
       "      <td>19/01</td>\n",
       "      <td>4703</td>\n",
       "    </tr>\n",
       "    <tr>\n",
       "      <th>19</th>\n",
       "      <td>20/01</td>\n",
       "      <td>4322</td>\n",
       "    </tr>\n",
       "    <tr>\n",
       "      <th>20</th>\n",
       "      <td>21/01</td>\n",
       "      <td>3675</td>\n",
       "    </tr>\n",
       "    <tr>\n",
       "      <th>21</th>\n",
       "      <td>22/01</td>\n",
       "      <td>3291</td>\n",
       "    </tr>\n",
       "    <tr>\n",
       "      <th>22</th>\n",
       "      <td>23/01</td>\n",
       "      <td>3225</td>\n",
       "    </tr>\n",
       "  </tbody>\n",
       "</table>\n",
       "</div>"
      ],
      "text/plain": [
       "   Day_Month  Call_Status\n",
       "0      01/01         4644\n",
       "1      02/01         3351\n",
       "2      03/01         4789\n",
       "3      04/01         5113\n",
       "4      05/01         4790\n",
       "5      06/01         4951\n",
       "6      07/01         4948\n",
       "7      08/01         4672\n",
       "8      09/01         3652\n",
       "9      10/01         4983\n",
       "10     11/01         4637\n",
       "11     12/01         4643\n",
       "12     13/01         4123\n",
       "13     14/01         3155\n",
       "14     15/01         3058\n",
       "15     16/01         5142\n",
       "16     17/01        22347\n",
       "17     18/01         5774\n",
       "18     19/01         4703\n",
       "19     20/01         4322\n",
       "20     21/01         3675\n",
       "21     22/01         3291\n",
       "22     23/01         3225"
      ]
     },
     "execution_count": 56,
     "metadata": {},
     "output_type": "execute_result"
    }
   ],
   "source": [
    "new_df = df.pivot_table(index='Day_Month', values='Call_Status', aggfunc='count').reset_index()\n",
    "new_df"
   ]
  },
  {
   "cell_type": "code",
   "execution_count": 57,
   "id": "9267ad51",
   "metadata": {},
   "outputs": [
    {
     "name": "stdout",
     "output_type": "stream",
     "text": [
      "5130.0\n"
     ]
    }
   ],
   "source": [
    "# Average calls daily (9AM - 9PM)\n",
    "avg_daily = round(new_df['Call_Status'].mean(),0)\n",
    "print(avg_daily)"
   ]
  },
  {
   "cell_type": "code",
   "execution_count": 58,
   "id": "587125b6",
   "metadata": {},
   "outputs": [
    {
     "name": "stdout",
     "output_type": "stream",
     "text": [
      "1539.0\n"
     ]
    }
   ],
   "source": [
    "# Average call daily for night (9PM -9AM) \n",
    "# Every 100 calls that customer made during 9 Am to 9 Pm, customer also made 30 calls in night\n",
    "avg_night = .3*avg_daily\n",
    "print(avg_night)"
   ]
  },
  {
   "cell_type": "code",
   "execution_count": 59,
   "id": "31acde03",
   "metadata": {},
   "outputs": [
    {
     "name": "stdout",
     "output_type": "stream",
     "text": [
      "109.170675\n"
     ]
    }
   ],
   "source": [
    "# Additional hours required for night\n",
    "addnl_hrs_night = avg_night*avg_ans_90/3600\n",
    "print(addnl_hrs_night)"
   ]
  },
  {
   "cell_type": "code",
   "execution_count": 60,
   "id": "094458d9",
   "metadata": {},
   "outputs": [
    {
     "name": "stdout",
     "output_type": "stream",
     "text": [
      "24.0\n"
     ]
    }
   ],
   "source": [
    "# Additional agents required for night\n",
    "addnl_agnts_night = round(addnl_hrs_night/4.5,0)\n",
    "print(addnl_agnts_night)"
   ]
  },
  {
   "cell_type": "code",
   "execution_count": 61,
   "id": "2b230640",
   "metadata": {},
   "outputs": [
    {
     "data": {
      "text/html": [
       "<div>\n",
       "<style scoped>\n",
       "    .dataframe tbody tr th:only-of-type {\n",
       "        vertical-align: middle;\n",
       "    }\n",
       "\n",
       "    .dataframe tbody tr th {\n",
       "        vertical-align: top;\n",
       "    }\n",
       "\n",
       "    .dataframe thead th {\n",
       "        text-align: right;\n",
       "    }\n",
       "</style>\n",
       "<table border=\"1\" class=\"dataframe\">\n",
       "  <thead>\n",
       "    <tr style=\"text-align: right;\">\n",
       "      <th></th>\n",
       "      <th>Time_Bucket_Night</th>\n",
       "      <th>Call_Distribution</th>\n",
       "    </tr>\n",
       "  </thead>\n",
       "  <tbody>\n",
       "    <tr>\n",
       "      <th>0</th>\n",
       "      <td>21-22</td>\n",
       "      <td>3</td>\n",
       "    </tr>\n",
       "    <tr>\n",
       "      <th>1</th>\n",
       "      <td>22-23</td>\n",
       "      <td>3</td>\n",
       "    </tr>\n",
       "    <tr>\n",
       "      <th>2</th>\n",
       "      <td>23-00</td>\n",
       "      <td>2</td>\n",
       "    </tr>\n",
       "    <tr>\n",
       "      <th>3</th>\n",
       "      <td>00-01</td>\n",
       "      <td>2</td>\n",
       "    </tr>\n",
       "    <tr>\n",
       "      <th>4</th>\n",
       "      <td>01-02</td>\n",
       "      <td>1</td>\n",
       "    </tr>\n",
       "    <tr>\n",
       "      <th>5</th>\n",
       "      <td>02-03</td>\n",
       "      <td>1</td>\n",
       "    </tr>\n",
       "    <tr>\n",
       "      <th>6</th>\n",
       "      <td>03-04</td>\n",
       "      <td>1</td>\n",
       "    </tr>\n",
       "    <tr>\n",
       "      <th>7</th>\n",
       "      <td>04-05</td>\n",
       "      <td>1</td>\n",
       "    </tr>\n",
       "    <tr>\n",
       "      <th>8</th>\n",
       "      <td>05-06</td>\n",
       "      <td>3</td>\n",
       "    </tr>\n",
       "    <tr>\n",
       "      <th>9</th>\n",
       "      <td>06-07</td>\n",
       "      <td>4</td>\n",
       "    </tr>\n",
       "    <tr>\n",
       "      <th>10</th>\n",
       "      <td>07-08</td>\n",
       "      <td>4</td>\n",
       "    </tr>\n",
       "    <tr>\n",
       "      <th>11</th>\n",
       "      <td>08-09</td>\n",
       "      <td>5</td>\n",
       "    </tr>\n",
       "  </tbody>\n",
       "</table>\n",
       "</div>"
      ],
      "text/plain": [
       "   Time_Bucket_Night  Call_Distribution\n",
       "0              21-22                  3\n",
       "1              22-23                  3\n",
       "2              23-00                  2\n",
       "3              00-01                  2\n",
       "4              01-02                  1\n",
       "5              02-03                  1\n",
       "6              03-04                  1\n",
       "7              04-05                  1\n",
       "8              05-06                  3\n",
       "9              06-07                  4\n",
       "10             07-08                  4\n",
       "11             08-09                  5"
      ]
     },
     "execution_count": 61,
     "metadata": {},
     "output_type": "execute_result"
    }
   ],
   "source": [
    "data = {'Time_Bucket_Night': ['21-22', '22-23', '23-00', '00-01', '01-02', '02-03', '03-04', '04-05', '05-06', '06-07', '07-08', '08-09'],\n",
    "        'Call_Distribution': [3, 3, 2, 2, 1, 1, 1, 1, 3, 4, 4, 5]}\n",
    "\n",
    "df_night = pd.DataFrame(data)\n",
    "df_night"
   ]
  },
  {
   "cell_type": "code",
   "execution_count": 62,
   "id": "749e540c",
   "metadata": {},
   "outputs": [],
   "source": [
    "# Percentage Distribution for calls at night\n",
    "df_night['Pct_Call_Distribution'] = round(df_night['Call_Distribution']/sum(df_night['Call_Distribution'])*100,0)"
   ]
  },
  {
   "cell_type": "code",
   "execution_count": 63,
   "id": "dc767cc4",
   "metadata": {},
   "outputs": [
    {
     "data": {
      "text/html": [
       "<div>\n",
       "<style scoped>\n",
       "    .dataframe tbody tr th:only-of-type {\n",
       "        vertical-align: middle;\n",
       "    }\n",
       "\n",
       "    .dataframe tbody tr th {\n",
       "        vertical-align: top;\n",
       "    }\n",
       "\n",
       "    .dataframe thead th {\n",
       "        text-align: right;\n",
       "    }\n",
       "</style>\n",
       "<table border=\"1\" class=\"dataframe\">\n",
       "  <thead>\n",
       "    <tr style=\"text-align: right;\">\n",
       "      <th></th>\n",
       "      <th>Time_Bucket_Night</th>\n",
       "      <th>Call_Distribution</th>\n",
       "      <th>Pct_Call_Distribution</th>\n",
       "    </tr>\n",
       "  </thead>\n",
       "  <tbody>\n",
       "    <tr>\n",
       "      <th>0</th>\n",
       "      <td>21-22</td>\n",
       "      <td>3</td>\n",
       "      <td>10.00</td>\n",
       "    </tr>\n",
       "    <tr>\n",
       "      <th>1</th>\n",
       "      <td>22-23</td>\n",
       "      <td>3</td>\n",
       "      <td>10.00</td>\n",
       "    </tr>\n",
       "    <tr>\n",
       "      <th>2</th>\n",
       "      <td>23-00</td>\n",
       "      <td>2</td>\n",
       "      <td>7.00</td>\n",
       "    </tr>\n",
       "    <tr>\n",
       "      <th>3</th>\n",
       "      <td>00-01</td>\n",
       "      <td>2</td>\n",
       "      <td>7.00</td>\n",
       "    </tr>\n",
       "    <tr>\n",
       "      <th>4</th>\n",
       "      <td>01-02</td>\n",
       "      <td>1</td>\n",
       "      <td>3.00</td>\n",
       "    </tr>\n",
       "    <tr>\n",
       "      <th>5</th>\n",
       "      <td>02-03</td>\n",
       "      <td>1</td>\n",
       "      <td>3.00</td>\n",
       "    </tr>\n",
       "    <tr>\n",
       "      <th>6</th>\n",
       "      <td>03-04</td>\n",
       "      <td>1</td>\n",
       "      <td>3.00</td>\n",
       "    </tr>\n",
       "    <tr>\n",
       "      <th>7</th>\n",
       "      <td>04-05</td>\n",
       "      <td>1</td>\n",
       "      <td>3.00</td>\n",
       "    </tr>\n",
       "    <tr>\n",
       "      <th>8</th>\n",
       "      <td>05-06</td>\n",
       "      <td>3</td>\n",
       "      <td>10.00</td>\n",
       "    </tr>\n",
       "    <tr>\n",
       "      <th>9</th>\n",
       "      <td>06-07</td>\n",
       "      <td>4</td>\n",
       "      <td>13.00</td>\n",
       "    </tr>\n",
       "    <tr>\n",
       "      <th>10</th>\n",
       "      <td>07-08</td>\n",
       "      <td>4</td>\n",
       "      <td>13.00</td>\n",
       "    </tr>\n",
       "    <tr>\n",
       "      <th>11</th>\n",
       "      <td>08-09</td>\n",
       "      <td>5</td>\n",
       "      <td>17.00</td>\n",
       "    </tr>\n",
       "  </tbody>\n",
       "</table>\n",
       "</div>"
      ],
      "text/plain": [
       "   Time_Bucket_Night  Call_Distribution  Pct_Call_Distribution\n",
       "0              21-22                  3                  10.00\n",
       "1              22-23                  3                  10.00\n",
       "2              23-00                  2                   7.00\n",
       "3              00-01                  2                   7.00\n",
       "4              01-02                  1                   3.00\n",
       "5              02-03                  1                   3.00\n",
       "6              03-04                  1                   3.00\n",
       "7              04-05                  1                   3.00\n",
       "8              05-06                  3                  10.00\n",
       "9              06-07                  4                  13.00\n",
       "10             07-08                  4                  13.00\n",
       "11             08-09                  5                  17.00"
      ]
     },
     "execution_count": 63,
     "metadata": {},
     "output_type": "execute_result"
    }
   ],
   "source": [
    "df_night"
   ]
  },
  {
   "cell_type": "code",
   "execution_count": 64,
   "id": "cb7647c9",
   "metadata": {},
   "outputs": [
    {
     "data": {
      "text/html": [
       "<div>\n",
       "<style scoped>\n",
       "    .dataframe tbody tr th:only-of-type {\n",
       "        vertical-align: middle;\n",
       "    }\n",
       "\n",
       "    .dataframe tbody tr th {\n",
       "        vertical-align: top;\n",
       "    }\n",
       "\n",
       "    .dataframe thead th {\n",
       "        text-align: right;\n",
       "    }\n",
       "</style>\n",
       "<table border=\"1\" class=\"dataframe\">\n",
       "  <thead>\n",
       "    <tr style=\"text-align: right;\">\n",
       "      <th></th>\n",
       "      <th>Time_Bucket_Night</th>\n",
       "      <th>Call_Distribution</th>\n",
       "      <th>Pct_Call_Distribution</th>\n",
       "      <th>Agents_Reqd</th>\n",
       "    </tr>\n",
       "  </thead>\n",
       "  <tbody>\n",
       "    <tr>\n",
       "      <th>0</th>\n",
       "      <td>21-22</td>\n",
       "      <td>3</td>\n",
       "      <td>10.00</td>\n",
       "      <td>2.00</td>\n",
       "    </tr>\n",
       "    <tr>\n",
       "      <th>1</th>\n",
       "      <td>22-23</td>\n",
       "      <td>3</td>\n",
       "      <td>10.00</td>\n",
       "      <td>2.00</td>\n",
       "    </tr>\n",
       "    <tr>\n",
       "      <th>2</th>\n",
       "      <td>23-00</td>\n",
       "      <td>2</td>\n",
       "      <td>7.00</td>\n",
       "      <td>2.00</td>\n",
       "    </tr>\n",
       "    <tr>\n",
       "      <th>3</th>\n",
       "      <td>00-01</td>\n",
       "      <td>2</td>\n",
       "      <td>7.00</td>\n",
       "      <td>2.00</td>\n",
       "    </tr>\n",
       "    <tr>\n",
       "      <th>4</th>\n",
       "      <td>01-02</td>\n",
       "      <td>1</td>\n",
       "      <td>3.00</td>\n",
       "      <td>1.00</td>\n",
       "    </tr>\n",
       "    <tr>\n",
       "      <th>5</th>\n",
       "      <td>02-03</td>\n",
       "      <td>1</td>\n",
       "      <td>3.00</td>\n",
       "      <td>1.00</td>\n",
       "    </tr>\n",
       "    <tr>\n",
       "      <th>6</th>\n",
       "      <td>03-04</td>\n",
       "      <td>1</td>\n",
       "      <td>3.00</td>\n",
       "      <td>1.00</td>\n",
       "    </tr>\n",
       "    <tr>\n",
       "      <th>7</th>\n",
       "      <td>04-05</td>\n",
       "      <td>1</td>\n",
       "      <td>3.00</td>\n",
       "      <td>1.00</td>\n",
       "    </tr>\n",
       "    <tr>\n",
       "      <th>8</th>\n",
       "      <td>05-06</td>\n",
       "      <td>3</td>\n",
       "      <td>10.00</td>\n",
       "      <td>2.00</td>\n",
       "    </tr>\n",
       "    <tr>\n",
       "      <th>9</th>\n",
       "      <td>06-07</td>\n",
       "      <td>4</td>\n",
       "      <td>13.00</td>\n",
       "      <td>3.00</td>\n",
       "    </tr>\n",
       "    <tr>\n",
       "      <th>10</th>\n",
       "      <td>07-08</td>\n",
       "      <td>4</td>\n",
       "      <td>13.00</td>\n",
       "      <td>3.00</td>\n",
       "    </tr>\n",
       "    <tr>\n",
       "      <th>11</th>\n",
       "      <td>08-09</td>\n",
       "      <td>5</td>\n",
       "      <td>17.00</td>\n",
       "      <td>4.00</td>\n",
       "    </tr>\n",
       "  </tbody>\n",
       "</table>\n",
       "</div>"
      ],
      "text/plain": [
       "   Time_Bucket_Night  Call_Distribution  Pct_Call_Distribution  Agents_Reqd\n",
       "0              21-22                  3                  10.00         2.00\n",
       "1              22-23                  3                  10.00         2.00\n",
       "2              23-00                  2                   7.00         2.00\n",
       "3              00-01                  2                   7.00         2.00\n",
       "4              01-02                  1                   3.00         1.00\n",
       "5              02-03                  1                   3.00         1.00\n",
       "6              03-04                  1                   3.00         1.00\n",
       "7              04-05                  1                   3.00         1.00\n",
       "8              05-06                  3                  10.00         2.00\n",
       "9              06-07                  4                  13.00         3.00\n",
       "10             07-08                  4                  13.00         3.00\n",
       "11             08-09                  5                  17.00         4.00"
      ]
     },
     "execution_count": 64,
     "metadata": {},
     "output_type": "execute_result"
    }
   ],
   "source": [
    "# Agent required for each time bucket for night\n",
    "df_night['Agents_Reqd'] = round(df_night['Pct_Call_Distribution']/100*24,0)\n",
    "df_night"
   ]
  }
 ],
 "metadata": {
  "kernelspec": {
   "display_name": "Python 3 (ipykernel)",
   "language": "python",
   "name": "python3"
  },
  "language_info": {
   "codemirror_mode": {
    "name": "ipython",
    "version": 3
   },
   "file_extension": ".py",
   "mimetype": "text/x-python",
   "name": "python",
   "nbconvert_exporter": "python",
   "pygments_lexer": "ipython3",
   "version": "3.9.15"
  }
 },
 "nbformat": 4,
 "nbformat_minor": 5
}
